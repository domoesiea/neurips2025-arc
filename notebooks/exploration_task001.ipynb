{
 "cells": [
  {
   "cell_type": "markdown",
   "id": "9b53d46a",
   "metadata": {},
   "source": [
    "1- Chargement du fichier json"
   ]
  },
  {
   "cell_type": "code",
   "execution_count": 1,
   "id": "ff287e61",
   "metadata": {},
   "outputs": [
    {
     "name": "stdout",
     "output_type": "stream",
     "text": [
      "dict_keys(['train', 'test', 'arc-gen'])\n"
     ]
    }
   ],
   "source": [
    "import json\n",
    "from pathlib import Path\n",
    "\n",
    "# Charger un fichier\n",
    "with open(Path(\"../data/task001.json\")) as f:\n",
    "    task = json.load(f)\n",
    "\n",
    "# Afficher les clés principales\n",
    "print(task.keys())\n"
   ]
  },
  {
   "cell_type": "markdown",
   "id": "7b1be299",
   "metadata": {},
   "source": [
    "2- Inspecton des exemples"
   ]
  },
  {
   "cell_type": "code",
   "execution_count": 2,
   "id": "444febf2",
   "metadata": {},
   "outputs": [
    {
     "name": "stdout",
     "output_type": "stream",
     "text": [
      "Exemple 1 - Input:\n",
      "[0, 7, 7]\n",
      "[7, 7, 7]\n",
      "[0, 7, 7]\n",
      "Output:\n",
      "[0, 0, 0, 0, 7, 7, 0, 7, 7]\n",
      "[0, 0, 0, 7, 7, 7, 7, 7, 7]\n",
      "[0, 0, 0, 0, 7, 7, 0, 7, 7]\n",
      "[0, 7, 7, 0, 7, 7, 0, 7, 7]\n",
      "[7, 7, 7, 7, 7, 7, 7, 7, 7]\n",
      "[0, 7, 7, 0, 7, 7, 0, 7, 7]\n",
      "[0, 0, 0, 0, 7, 7, 0, 7, 7]\n",
      "[0, 0, 0, 7, 7, 7, 7, 7, 7]\n",
      "[0, 0, 0, 0, 7, 7, 0, 7, 7]\n",
      "==============================\n",
      "Exemple 2 - Input:\n",
      "[4, 0, 4]\n",
      "[0, 0, 0]\n",
      "[0, 4, 0]\n",
      "Output:\n",
      "[4, 0, 4, 0, 0, 0, 4, 0, 4]\n",
      "[0, 0, 0, 0, 0, 0, 0, 0, 0]\n",
      "[0, 4, 0, 0, 0, 0, 0, 4, 0]\n",
      "[0, 0, 0, 0, 0, 0, 0, 0, 0]\n",
      "[0, 0, 0, 0, 0, 0, 0, 0, 0]\n",
      "[0, 0, 0, 0, 0, 0, 0, 0, 0]\n",
      "[0, 0, 0, 4, 0, 4, 0, 0, 0]\n",
      "[0, 0, 0, 0, 0, 0, 0, 0, 0]\n",
      "[0, 0, 0, 0, 4, 0, 0, 0, 0]\n",
      "==============================\n",
      "Exemple 3 - Input:\n",
      "[0, 0, 0]\n",
      "[0, 0, 2]\n",
      "[2, 0, 2]\n",
      "Output:\n",
      "[0, 0, 0, 0, 0, 0, 0, 0, 0]\n",
      "[0, 0, 0, 0, 0, 0, 0, 0, 0]\n",
      "[0, 0, 0, 0, 0, 0, 0, 0, 0]\n",
      "[0, 0, 0, 0, 0, 0, 0, 0, 0]\n",
      "[0, 0, 0, 0, 0, 0, 0, 0, 2]\n",
      "[0, 0, 0, 0, 0, 0, 2, 0, 2]\n",
      "[0, 0, 0, 0, 0, 0, 0, 0, 0]\n",
      "[0, 0, 2, 0, 0, 0, 0, 0, 2]\n",
      "[2, 0, 2, 0, 0, 0, 2, 0, 2]\n",
      "==============================\n",
      "Exemple 4 - Input:\n",
      "[6, 6, 0]\n",
      "[6, 0, 0]\n",
      "[0, 6, 6]\n",
      "Output:\n",
      "[6, 6, 0, 6, 6, 0, 0, 0, 0]\n",
      "[6, 0, 0, 6, 0, 0, 0, 0, 0]\n",
      "[0, 6, 6, 0, 6, 6, 0, 0, 0]\n",
      "[6, 6, 0, 0, 0, 0, 0, 0, 0]\n",
      "[6, 0, 0, 0, 0, 0, 0, 0, 0]\n",
      "[0, 6, 6, 0, 0, 0, 0, 0, 0]\n",
      "[0, 0, 0, 6, 6, 0, 6, 6, 0]\n",
      "[0, 0, 0, 6, 0, 0, 6, 0, 0]\n",
      "[0, 0, 0, 0, 6, 6, 0, 6, 6]\n",
      "==============================\n",
      "Exemple 5 - Input:\n",
      "[2, 2, 2]\n",
      "[0, 0, 0]\n",
      "[0, 2, 2]\n",
      "Output:\n",
      "[2, 2, 2, 2, 2, 2, 2, 2, 2]\n",
      "[0, 0, 0, 0, 0, 0, 0, 0, 0]\n",
      "[0, 2, 2, 0, 2, 2, 0, 2, 2]\n",
      "[0, 0, 0, 0, 0, 0, 0, 0, 0]\n",
      "[0, 0, 0, 0, 0, 0, 0, 0, 0]\n",
      "[0, 0, 0, 0, 0, 0, 0, 0, 0]\n",
      "[0, 0, 0, 2, 2, 2, 2, 2, 2]\n",
      "[0, 0, 0, 0, 0, 0, 0, 0, 0]\n",
      "[0, 0, 0, 0, 2, 2, 0, 2, 2]\n",
      "==============================\n"
     ]
    }
   ],
   "source": [
    "for i, pair in enumerate(task[\"train\"]):\n",
    "    print(f\"Exemple {i+1} - Input:\")\n",
    "    for row in pair[\"input\"]:\n",
    "        print(row)\n",
    "    print(\"Output:\")\n",
    "    for row in pair[\"output\"]:\n",
    "        print(row)\n",
    "    print(\"=\"*30)\n"
   ]
  },
  {
   "cell_type": "markdown",
   "id": "786698dc",
   "metadata": {},
   "source": [
    "3- Visualisation des grilles"
   ]
  },
  {
   "cell_type": "code",
   "execution_count": 5,
   "id": "3e800b53",
   "metadata": {},
   "outputs": [
    {
     "data": {
      "image/png": "[encoded data removed]",
      "text/plain": [
       "<Figure size 640x480 with 1 Axes>"
      ]
     },
     "metadata": {},
     "output_type": "display_data"
    },
    {
     "data": {
      "image/png": "[encoded data removed]",
      "text/plain": [
       "<Figure size 640x480 with 1 Axes>"
      ]
     },
     "metadata": {},
     "output_type": "display_data"
    }
   ],
   "source": [
    "import matplotlib.pyplot as plt\n",
    "\n",
    "def show_grid(grid, title=\"\"):\n",
    "    plt.imshow(grid, cmap=\"tab10\", vmin=0, vmax=9)\n",
    "    plt.title(title)\n",
    "    plt.axis(\"off\")\n",
    "    plt.show()\n",
    "\n",
    "# Exemple d'affichage\n",
    "example = task[\"train\"][3]\n",
    "show_grid(example[\"input\"], \"Input\")\n",
    "show_grid(example[\"output\"], \"Output\")\n"
   ]
  }
 ],
 "metadata": {
  "kernelspec": {
   "display_name": "Python 3",
   "language": "python",
   "name": "python3"
  },
  "language_info": {
   "codemirror_mode": {
    "name": "ipython",
    "version": 3
   },
   "file_extension": ".py",
   "mimetype": "text/x-python",
   "name": "python",
   "nbconvert_exporter": "python",
   "pygments_lexer": "ipython3",
   "version": "3.11.9"
  }
 },
 "nbformat": 4,
 "nbformat_minor": 5
}
